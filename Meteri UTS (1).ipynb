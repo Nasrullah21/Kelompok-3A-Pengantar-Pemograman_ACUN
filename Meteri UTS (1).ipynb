{
 "cells": [
  {
   "cell_type": "markdown",
   "id": "40ef631a",
   "metadata": {},
   "source": [
    "#  Binomial Theorem and Sequences"
   ]
  },
  {
   "cell_type": "markdown",
   "id": "29600686",
   "metadata": {},
   "source": [
    "## 3.1 Binomial"
   ]
  },
  {
   "cell_type": "markdown",
   "id": "ff035e7f",
   "metadata": {},
   "source": [
    "Teorema Binomial merupakan suatu prinsip fundamental dalam aljabar yang menyatakan ekspansi dari pangkat bilangan binomial. Binomial dapat juga diartikan suatu rumus dalam matematika yang digunakan untuk menjabarkan  bentuk perpangkatan dari suatu binomial, yaitu $(a+b)^n$, dimana $a$ dan $b$ adalah sembarang bilangan riil (atau kompleks), dan $n$ adalah bilangan bulat tak negatif."
   ]
  },
  {
   "cell_type": "markdown",
   "id": "a778dd91",
   "metadata": {},
   "source": [
    "$$(a + b)^2 = (a + b)(a + b) = a(a + b) + b(a + b) = a^2 + 2ab + b^2$$"
   ]
  },
  {
   "cell_type": "markdown",
   "id": "b125defc",
   "metadata": {},
   "source": [
    "### 3.1.1 Factorial"
   ]
  },
  {
   "cell_type": "markdown",
   "id": "9e0dbc70",
   "metadata": {},
   "source": [
    "Faktorial adalah operasi matematika yang melibatkan hasil kali semua bilangan asli dari 1 hingga suatu bilangan tertentu, ($n$ ). Faktorial dilambangkan dengan tanda seru ($!$), seperti ( $n! $).\n",
    "Dalam matematika, faktorial dari suatu bilangan bulat non-negatif $𝑛$, yang ditulis sebagai $𝑛!$, adalah hasil perkalian semua bilangan bulat positif "
   ]
  },
  {
   "cell_type": "markdown",
   "id": "ab7f661d",
   "metadata": {},
   "source": [
    " Contohnya:- \n",
    " $$ 1! = 1 $$\n",
    "$$ 2! = 2 \\times 1 = 2$$\n",
    "$$ 3! = 3 \\times 2 \\times 1 = 6 $$\n"
   ]
  },
  {
   "cell_type": "markdown",
   "id": "e5f2d20a",
   "metadata": {},
   "source": [
    "koefisien binomial biasanya dituliskan dalam bentuk:\n",
    "$$\\binom{n}{r} \\equiv {} \\frac{n!}{r!(n-r)!}\\tag{3.1}$$  \n"
   ]
  },
  {
   "cell_type": "markdown",
   "id": "d33d4025",
   "metadata": {},
   "source": [
    "Salah satu contoh, untuk menghitung $\\binom{12}{6}$, dapat digunakan   \n",
    "$$\\binom{12}{6} = \\frac{12 \\times 11\\times 10 \\times 9\\times 8\\times 7}{1 \\times  2\\times 3 \\times 4 \\times 5\\times 6} = \\frac{665.280}{720} = 924$$   \n",
    "atau   \n",
    "$$\\binom{12}{6} = \\frac{12!}{6!(12-6)!} = \\frac{665.280}{720 \\times 720} = 924$$"
   ]
  },
  {
   "cell_type": "markdown",
   "id": "9eea4c9a",
   "metadata": {},
   "source": [
    "### 3.1.2 Teorema setitiga pascal"
   ]
  },
  {
   "cell_type": "markdown",
   "id": "b2dcdc39",
   "metadata": {},
   "source": [
    "Segitiga Pascal adalah metode visual untuk mendapatkan koefisien dalam ekspansi binomial ((a+b)^n). Struktur ini berupa segitiga yang dimulai dengan angka (1) di puncak, dan setiap angka berikutnya merupakan hasil penjumlahan dua angka di atasnya.\n",
    "$$\\begin{array}{ccccccc}\n",
    "&&&&&1&&\\\\\n",
    "&&&&1&&1&\\\\\n",
    "&&&1&&2&&1\\\\\n",
    "&&1&&3&&3&&1\\\\\n",
    "&1&&4&&6&&4&&1\\\\\n",
    "1&&5&&10&&10&&5&&1\\\\\n",
    "\\end{array}$$\n"
   ]
  },
  {
   "cell_type": "markdown",
   "id": "cf42644a",
   "metadata": {},
   "source": [
    "## 3.2 Deretan"
   ]
  },
  {
   "cell_type": "markdown",
   "id": "5a6d720b",
   "metadata": {},
   "source": [
    "Deret adalah barisan bilangan yang mengikuti aturan tertentu, baik berupa formula eksplisit, hubungan rekursif antara suku-suku berurutan, atau pola deterministik lainnya. Setiap bilangan dalam deret disebut sebagai suku. "
   ]
  },
  {
   "cell_type": "markdown",
   "id": "92958b16",
   "metadata": {},
   "source": [
    "Jenis-jenis deret:\n",
    "- Deret Aritmetika (Arithmetic Sequence):- Setiap suku memiliki selisih tetap antar-suku (disebut beda, d).\n",
    "- Rumusnya adalah: $$a_n = a + (n - 1)d\\tag{3.2},$$ di mana (a) adalah suku pertama, dan (d) adalah beda antar-suku.\n",
    "- Contoh: Deret -1, 1, 3, 5,... memiliki $(a = -1)$ dan $(d = 2)$.\n",
    "\n",
    "- Deret Geometri (Geometric Sequence):- Setiap suku memiliki rasio tetap (disebut rasio, r).\n",
    "- Rumusnya adalah: $$a_n = ar^{n-1}\\tag{3.3},$$ di mana (a) adalah suku pertama, dan (r) adalah rasio.\n",
    "- Contoh: Deret 2, 1, 0.5, 0.25,... memiliki $(a = 2)$ dan $(r = 1/2)$.\n"
   ]
  },
  {
   "cell_type": "markdown",
   "id": "207533df",
   "metadata": {},
   "source": [
    "### 3.2.1 Deret Fibbonacci"
   ]
  },
  {
   "cell_type": "markdown",
   "id": "754a93a6",
   "metadata": {},
   "source": [
    "Deret Fibonacci adalah barisan angka yang mengikuti pola tertentu: setiap angka (suku) dalam deret adalah hasil penjumlahan dari dua angka sebelumnya. \n",
    " Deret ini dimulai dengan (0) dan (1), menghasilkan:\n",
    "$$[ 0, 1, 1, 2, 3, 5, 8, 13, 21, \\dots ]$$\n",
    "Deret Fibonacci Hubungan antara suku-suku Fibonacci dijelaskan dengan rumus rekursif: $$[ a_{n+1} = a_n + a_{n-1} ]$$ Dimulai dari: $$[ a_0 = 0 \\quad \\text{dan} \\quad a_1 = 1 ]$$\n",
    "Dimulai dengan $(a_0 = 0)$ dan ($a_1 = 1$). "
   ]
  },
  {
   "cell_type": "markdown",
   "id": "6c2f9283",
   "metadata": {},
   "source": [
    "### 3.2.2  Hasil penjumlahan semua suku"
   ]
  },
  {
   "cell_type": "markdown",
   "id": "c3c5d84f",
   "metadata": {},
   "source": [
    "- Jumlah Deret Aritmatika: Deret aritmatika adalah deret dengan beda (d) yang tetap di antara dua suku berturut-turut. Rumus jumlah deret aritmatika untuk n suku adalah: $$ S = \\frac{n}{2} (a + an)\\tag{3.4} $$ Di mana:  \n",
    "- $( a )$: suku pertama\n",
    "- $( an )$: suku terakhir\n",
    "- $( n )$: jumlah suku\n",
    "Jika $( an )$ tidak diberikan, kita bisa menghitungnya menggunakan rumus: $$ an = a + (n - 1)d $$\n",
    "- Jumlah Deret Geometri: Deret geometri adalah deret di mana setiap suku diperoleh dengan mengalikan suku sebelumnya dengan rasio tetap $(r)$. Rumus jumlah deret geometri adalah:- Jika $( r \\neq 1 )$: $$ S = \\frac{a(1 - r^n)}{1 - r}\\tag{3.5} $$\n",
    "- Jika ( r = 1 ), maka semua suku sama, dan jumlahnya menjadi: $$ S = na $$\n",
    "Di mana:\n",
    "- ( a ): suku pertama\n",
    "- ( r ): rasio\n",
    "- ( n ): jumlah suku\n",
    "\n"
   ]
  },
  {
   "cell_type": "markdown",
   "id": "69fbf284",
   "metadata": {},
   "source": [
    "## 3.2.3 Deret Tak Hingga \n",
    "\n",
    "\n",
    "\n",
    "\n",
    "Pada deret geometri tak hingga dengan rasio |r| < 1, jumlah total deret dihitung dengan:\n",
    "\n",
    "\n",
    "\n",
    "$$S =\\frac{a}{1-r}\\tag{3.6}$$"
   ]
  },
  {
   "cell_type": "markdown",
   "id": "21c43623",
   "metadata": {},
   "source": [
    "contoh:  \n",
    "Hitung jumlah tak hingga dari deret: 20 + 15 + 10 + 5 + ...  \n",
    "jawab:   \n",
    "$S_\\infty= \\frac {20}{1-0.75}=80$"
   ]
  },
  {
   "cell_type": "markdown",
   "id": "8fde9c90",
   "metadata": {},
   "source": [
    "## 3.3  Eksponensial dan Logaritma"
   ]
  },
  {
   "cell_type": "markdown",
   "id": "0c17fd48",
   "metadata": {},
   "source": [
    "- Eksponen  \n",
    "Eksponen atau perpangkatan adalah berapa kali suatu bilangan (basis) dikalikan dengan dirinya sendiri  \n",
    "$$a^n  $$ \n",
    "contoh:  \n",
    "$3^3=3.3.3=27$  \n",
    "- sifat-sifat eksponen:  \n",
    " $$a^m.a^n=a^{m+n}$$ \n",
    " $$\\frac {a^m}{a^n}=a^{m-n}$$\n",
    " $$(a^m)^n=a^{m.n}$$  \n",
    "$$a^0=1(untuk a≠0 )$$  \n",
    "$$a^{-n}=\\frac 1 {a^n}$$"
   ]
  },
  {
   "cell_type": "markdown",
   "id": "57c4fd7e",
   "metadata": {},
   "source": [
    "- Logaritma:  \n",
    "jika $$a^c=b$$  \n",
    "maka $$^alogb=c$$ \n",
    "contoh:  \n",
    "$^4log16=2$"
   ]
  },
  {
   "cell_type": "markdown",
   "id": "1a04f57a",
   "metadata": {},
   "source": [
    "Contoh Soal "
   ]
  },
  {
   "cell_type": "markdown",
   "id": "e64d603d",
   "metadata": {},
   "source": [
    "### 1.  Ekspansikan $(a + 2x)^4 $"
   ]
  },
  {
   "cell_type": "code",
   "execution_count": 5,
   "id": "e6e471f1",
   "metadata": {},
   "outputs": [
    {
     "data": {
      "text/latex": [
       "$\\displaystyle a^{4} + 8 a^{3} x + 24 a^{2} x^{2} + 32 a x^{3} + 16 x^{4}$"
      ],
      "text/plain": [
       "a**4 + 8*a**3*x + 24*a**2*x**2 + 32*a*x**3 + 16*x**4"
      ]
     },
     "execution_count": 5,
     "metadata": {},
     "output_type": "execute_result"
    }
   ],
   "source": [
    "import sympy \n",
    "from sympy import expand, symbols\n",
    "\n",
    "x = symbols('x')\n",
    "a = symbols('a')\n",
    "fungsi = (a + 2*x )**4\n",
    "\n",
    "ekspansi = expand(fungsi)\n",
    "ekspansi"
   ]
  },
  {
   "cell_type": "markdown",
   "id": "a3419049",
   "metadata": {},
   "source": [
    "## 2.Tentukan nilai x dari ^4log(x) = 2"
   ]
  },
  {
   "cell_type": "code",
   "execution_count": 2,
   "id": "4abd8336",
   "metadata": {},
   "outputs": [
    {
     "data": {
      "text/plain": [
       "[16]"
      ]
     },
     "execution_count": 2,
     "metadata": {},
     "output_type": "execute_result"
    }
   ],
   "source": [
    "from sympy import symbols, log, solve\n",
    "x = symbols('x')\n",
    "soal = log(x, 2) - 4  \n",
    "jawaban = solve(soal, x)\n",
    "jawaban"
   ]
  },
  {
   "cell_type": "markdown",
   "id": "4e37869f",
   "metadata": {},
   "source": [
    "# 4.1 Trigonometry "
   ]
  },
  {
   "cell_type": "markdown",
   "id": "e5fb718a",
   "metadata": {},
   "source": [
    "### Trigonometri adalah cabang matematika yang mempelajari hubungan antara sudut dan panjang sisi dalam segitiga. Materi ini sangat penting terutama dalam dunia teknik dan rekayasa, karena banyak struktur bangunan, jembatan, mesin, dan bahkan sinyal listrik melibatkan sudut dan jarak."
   ]
  },
  {
   "cell_type": "markdown",
   "id": "56ed89b6",
   "metadata": {},
   "source": [
    "### 4.1.1 Plane Trigonometry (Trigonometry Bidang)\n",
    "Identitas adalah rumus-rumus yang selalu benar untuk setiap nilai sudut.\n",
    "Identitas dasar:\n"
   ]
  },
  {
   "cell_type": "markdown",
   "id": "843bec27",
   "metadata": {},
   "source": [
    "### $$sin^2 𝑥 + cos^2 𝑥$$\n",
    "\n",
    "### $$-1 + tan^2 𝑥 = sec^2 𝑥$$\n",
    "\n",
    "### $$-1 + cot^2 𝑥 = csc^2 𝑥$$\n",
    "\n"
   ]
  },
  {
   "cell_type": "markdown",
   "id": "f7bdb1e8",
   "metadata": {},
   "source": [
    "Penjumlahan dan Pengurangan Sudut:\n",
    "\n",
    "-sin(𝑎±𝑏) = sin 𝑎 cos 𝑏 ± cos 𝑎 sin 𝑏\n",
    "\n",
    "-cos(a±b)= cos a cos b ∓ sin a sin b\n",
    "\n",
    "Kegunaan:\n",
    "\n",
    "Dipakai untuk menyederhanakan ekspresi trigonometri.\n",
    "\n",
    "Berguna dalam analisis sinyal listrik dan pengolahan gelombang.\n",
    "\n",
    "Trigonometri Bidang"
   ]
  },
  {
   "cell_type": "markdown",
   "id": "8f4799f2",
   "metadata": {},
   "source": [
    "##### Radian didefinisikan sebagai sudut yang panjang busurnya adalah r yang juga merupakan jari-jari."
   ]
  },
  {
   "attachments": {
    "image.png": {
     "image/png": "[encoded data removed]"
    }
   },
   "cell_type": "markdown",
   "id": "2a658af9",
   "metadata": {},
   "source": [
    "![image.png](attachment:image.png)"
   ]
  },
  {
   "cell_type": "markdown",
   "id": "e02510b1",
   "metadata": {},
   "source": [
    "### Konversi Antara Radian dan Derajat\n",
    "\n",
    "1. **Hubungan dasar antara radian dan derajat**:\n",
    "   $$2\\pi \\text{ radian} = 360^\\circ \\text{ (derajat)}$$\n",
    "   Ini berarti sudut siku-siku adalah:\n",
    "   $$\\frac{\\pi}{2} \\text{ radian}.$$\n",
    "\n",
    "   $$ 1 \\text{ radian} = \\frac{360^\\circ}{2 \\times 3.14159} = 57.296^\\circ \\text{ (derajat)}$$\n",
    "\n",
    "\n",
    "   $$1^\\circ = \\frac{2\\pi}{360} = 0.017453 \\text{ radian}$$\n",
    "\n",
    "   ### $$ 1 \\text{ radian} = \\frac{2x}{3,14159}= 57,296^0  derajat$$\n"
   ]
  },
  {
   "cell_type": "markdown",
   "id": "58991fe9",
   "metadata": {},
   "source": [
    "### 4.1.2 Sine Rule"
   ]
  },
  {
   "cell_type": "markdown",
   "id": "24d298e5",
   "metadata": {},
   "source": [
    "Aturan Sinus adalah salah satu konsep penting dalam trigonometri, karena memberikan hubungan antara panjang sisi-sisi segitiga dan sudut-sudut yang bersesuaian.\n",
    "Derivasi Aturan Sinus\n",
    "Pada segitiga seperti yang ditunjukkan pada Gambar 4.7:"
   ]
  },
  {
   "attachments": {
    "image.png": {
     "image/png": "[encoded data removed]"
    }
   },
   "cell_type": "markdown",
   "id": "a5ea91db",
   "metadata": {},
   "source": [
    "![image.png](attachment:image.png)"
   ]
  },
  {
   "cell_type": "markdown",
   "id": "b147b8fc",
   "metadata": {},
   "source": [
    "- Tinggi segitiga, h, dapat dihitung dengan rumus:- $$h = b \\cdot \\sin(A)$$\n",
    "- $$h = a \\cdot \\sin(B)$$\n",
    "\n",
    "- Kombinasi kedua rumus tersebut memberikan:- $$b \\cdot \\sin(A) = a \\cdot \\sin(B)$$\n",
    "atau\n",
    "$$\\frac{a}{\\sin(A)} = \\frac{b}{\\sin(B)}$$"
   ]
  },
  {
   "cell_type": "markdown",
   "id": "537b2c13",
   "metadata": {},
   "source": [
    "$$ \\frac{a}{\\sin A} = \\frac{b}{\\sin B} = \\frac{c}{\\sin C}$$ "
   ]
  },
  {
   "cell_type": "markdown",
   "id": "ccca1e78",
   "metadata": {},
   "source": [
    "### 4.2.1. Cosine Rule :  \n",
    "Dalam menurunkan aturan kosinus, kita menggunakan segitiga yang sama seperti pada aturan sinus, tetapi sekarang kita letakkan dalam sistem koordinat Kartesius. Titik-titik pada segitiga memiliki koordinat sebagai berikut:\n",
    "- A: (0, 0),\n",
    "- B: (c, 0),\n",
    "- C: (b cos A, b sin A).\n",
    "\n",
    "Panjang sisi a adalah jarak antara titik A dan B, yang dihitung menggunakan rumus jarak dalam koordinat Kartesius: $$a^2 = (b \\cos A - c)^2 + (b \\sin A - 0)^2$$\n",
    "Rumus ini disederhanakan menjadi: $$a2 \\cos2 - 2bc \\cos A + b2 A$$"
   ]
  },
  {
   "cell_type": "markdown",
   "id": "729ad6de",
   "metadata": {},
   "source": [
    "Dengan menggunakan identitas trigonometri (\\sin2 A = 1), persamaan menjadi: $$a2 (1) + c2 = b2 - 2bc \\cos A.$$\n",
    "Aturan Umum\n",
    "Dengan argumen yang sama, kita bisa menurunkan aturan kosinus untuk sisi lainnya:\n",
    "- $$b2 + a^2 - 2ca \\cos B$$\n",
    "- $$c2 + b^2 - 2ab \\cos C$$\n"
   ]
  },
  {
   "cell_type": "markdown",
   "id": "99de3fa8",
   "metadata": {},
   "source": [
    "Aturan kosinus juga dapat digunakan untuk menentukan besar sudut jika panjang ketiga sisi diketahui:\n",
    "- $$\\cos A = \\frac{b2 - a^2}{2bc}$$\n",
    "- $$\\cos B = \\frac{c2 - b^2}{2ca}$$\n",
    "- $$\\cos C = \\frac{a2 - c^2}{2ab}$$\n"
   ]
  },
  {
   "cell_type": "markdown",
   "id": "2cfe5e5a",
   "metadata": {},
   "source": [
    "Rumus dasar:\n",
    "\n",
    "$$ sin^2𝑥 + cos^2𝑥 = 1 , 1 + tan^2𝑥 = sec^2𝑥$$"
   ]
  },
  {
   "cell_type": "markdown",
   "id": "00765f0b",
   "metadata": {},
   "source": [
    "# 4.2. Spherical Trigonometri  \n",
    "Spherical trigonometri adalah studi tentang segitiga yang terbentuk di permukaan bola serta hubungan antara sisi-sisi serta sudut yang di bentuk oleh perpotongan tiga busur lingkaran besar pada permukaan bola. Ini sangat penting dalam navigasi dan astronomi. Beberapa konsep utama meliputi:  \n",
    "1. Aturan sinus bola \n",
    "2. Atusan kosinus bola "
   ]
  },
  {
   "attachments": {
    "image.png": {
     "image/png": "[encoded data removed]"
    }
   },
   "cell_type": "markdown",
   "id": "4dca9766",
   "metadata": {},
   "source": [
    "![image.png](attachment:image.png)"
   ]
  },
  {
   "attachments": {
    "image.png": {
     "image/png": "[encoded data removed]"
    }
   },
   "cell_type": "markdown",
   "id": "0be523a6",
   "metadata": {},
   "source": [
    "![image.png](attachment:image.png)"
   ]
  },
  {
   "cell_type": "markdown",
   "id": "49ca9b97",
   "metadata": {},
   "source": [
    "## 1. Aturan Sinus Bola  \n",
    "Rumusnya sebagai berikut:"
   ]
  },
  {
   "cell_type": "markdown",
   "id": "95c4feab",
   "metadata": {},
   "source": [
    "$$\\frac{\\sin a}{\\sin A} = \\frac{\\sin b}{\\sin B} = \\frac{\\sin c}{\\sin C} \\tag{1.6}$$"
   ]
  },
  {
   "cell_type": "markdown",
   "id": "6db451ff",
   "metadata": {},
   "source": [
    "## 2. Aturan Kosinus Bola   \n",
    "Di sini, (a, b, c) adalah panjang busur sisi segitiga bola, dan (A, B, C) adalah sudut di antara sisi-sisi tersebut. Rumusnya adalah sebagai berikut:"
   ]
  },
  {
   "cell_type": "markdown",
   "id": "36757993",
   "metadata": {},
   "source": [
    "$$\\cos a = \\cos b \\cdot \\cos c + \\sin b \\cdot \\sin c \\cdot \\cos A \\tag{1.7}$$ "
   ]
  },
  {
   "cell_type": "markdown",
   "id": "c0ba685b",
   "metadata": {},
   "source": [
    "# 4.3. Applications  \n",
    "##  2.\tGreat-Circle Distance (jarak lingkaran besar)  \n",
    "Jarak lingkaran besar adalah jarak terpendek antara dua titik di permukaan bola, seperti bumi. Ini digunakan dalam navigasi udara dan laut untuk merencanakan rute perjalanan yang efisien. \n",
    "\n",
    "### Masalah: Hitung jarak antara dua kota di permukaan bumi:\n",
    "\n",
    "Kota A: (lat = 10°N, long = 20°E)\n",
    "\n",
    "Kota B: (lat = 50°N, long = 80°E)\n",
    "\n",
    "\n",
    "Gunakan Rumus Cosinus Spherical:\n",
    "\n",
    "$$\\cos d = \\sin \\phi_1 \\sin \\phi_2 + \\cos \\phi_1 \\cos \\phi_2 \\cos(\\Delta\\lambda)$$\n",
    "\n",
    "Dengan:\n",
    "1. Ubah ke radian:\n",
    "\n",
    "$$\\phi_1 = \\frac{10\\pi}{180},\\ \\phi_2 = \\frac{50\\pi}{180},\\ \\Delta\\lambda = \\frac{60\\pi}{180}$$\n",
    "\n",
    "2. Masukkan ke rumus:\n",
    "\n",
    "$$\\cos d = \\sin(10^\\circ) \\sin(50^\\circ) + \\cos(10^\\circ) \\cos(50^\\circ) \\cos(60^\\circ)$$\n",
    "\n",
    "$$\\cos d \\approx 0.1736 \\cdot 0.7660 + 0.9848 \\cdot 0.6428 \\cdot 0.5 \\approx 0.1329 + 0.3163 = 0.4492 ]$$\n",
    "$$d = \\cos^{-1}(0.4492) \\approx 63.3^\\circ$$\n",
    "\n",
    "\n",
    "3. Hitung jarak:\n",
    "\n",
    "$$s = R \\cdot d = 6371 \\cdot \\frac{63.3\\pi}{180} \\approx 7025 \\text{ km}$$"
   ]
  },
  {
   "cell_type": "markdown",
   "id": "98a17f65",
   "metadata": {},
   "source": [
    "# Contoh soal"
   ]
  },
  {
   "attachments": {
    "image.png": {
     "image/png": "[encoded data removed]"
    }
   },
   "cell_type": "markdown",
   "id": "11cf7b72",
   "metadata": {},
   "source": [
    "![image.png](attachment:image.png)"
   ]
  },
  {
   "cell_type": "markdown",
   "id": "0095f2b8",
   "metadata": {},
   "source": [
    "### 1. Dari gambar segitiga di bawah tentukan nilai sinus, cosinus, dan tangennya  "
   ]
  },
  {
   "cell_type": "code",
   "execution_count": 11,
   "id": "dd5aa124",
   "metadata": {},
   "outputs": [],
   "source": [
    "import sympy"
   ]
  },
  {
   "cell_type": "code",
   "execution_count": 12,
   "id": "32bf2a9d",
   "metadata": {},
   "outputs": [
    {
     "name": "stdout",
     "output_type": "stream",
     "text": [
      "Sin =  8/17\n",
      "Cos = 15/17\n",
      "Tan = 8/15\n"
     ]
    }
   ],
   "source": [
    "from sympy import sin, cos, tan, symbols, Rational\n",
    "\n",
    "depan = 8\n",
    "samping = 15\n",
    "miring = 17\n",
    "\n",
    "sin = Rational(depan, miring)\n",
    "cos = Rational(samping, miring)\n",
    "tan = Rational(depan, samping)\n",
    "\n",
    "print('Sin = ', (sin))\n",
    "print('Cos =', (cos))\n",
    "print('Tan =', (tan))"
   ]
  },
  {
   "cell_type": "markdown",
   "id": "ed707c72",
   "metadata": {},
   "source": [
    "### 2. Gunakan aturan sinus untuk mencari luas dari segitiga dengan d = 17, f = 22, F = 26◦"
   ]
  },
  {
   "cell_type": "code",
   "execution_count": 13,
   "id": "4352f39a",
   "metadata": {},
   "outputs": [
    {
     "name": "stdout",
     "output_type": "stream",
     "text": [
      "luas segitiga adalah 142.598430239686\n"
     ]
    }
   ],
   "source": [
    "from sympy import symbols, sin\n",
    "\n",
    "d = 17\n",
    "f = 22\n",
    "F = 26\n",
    "\n",
    "luas_segitiga = (1/2) * d * f * sin(F)\n",
    "hasil = luas_segitiga.evalf()\n",
    "\n",
    "print('luas segitiga adalah',(hasil))"
   ]
  },
  {
   "cell_type": "markdown",
   "id": "2accf254",
   "metadata": {},
   "source": [
    "### 3. Sebuah kapal P berlayar dengan kecepatan tetap 45 km/jam ke arah Barat 32° Utara (yaitu dengan sudut kompas 302°) dari sebuah pelabuhan. Pada saat yang sama, kapal lain Q meninggalkan pelabuhan dengan kecepatan tetap 35 km/jam ke arah Utara 15° Timur (yaitu dengan sudut kompas 015°). Tentukan jarak antara kedua kapal tersebut setelah empat jam."
   ]
  },
  {
   "cell_type": "code",
   "execution_count": 14,
   "id": "5d7d66f0",
   "metadata": {},
   "outputs": [
    {
     "name": "stdout",
     "output_type": "stream",
     "text": [
      "jarak antara kedua kapal adalah 14895.8870013433\n"
     ]
    }
   ],
   "source": [
    "from sympy import symbols, cos, Rational\n",
    "\n",
    "# Jarak setelah 4 jam  \n",
    "P = 45 * 4\n",
    "Q = 35 * 4\n",
    "\n",
    "# Sudut dari kedua kapal\n",
    "sudut = 58 + 15\n",
    "\n",
    "jarak = P**2 + Q**2 + 2*P*Q*cos(sudut)\n",
    "hasil = jarak.evalf()  \n",
    "print('jarak antara kedua kapal adalah',(hasil) )"
   ]
  },
  {
   "cell_type": "markdown",
   "id": "1c4591c4",
   "metadata": {},
   "source": [
    "# Bab 3: Bilangan Kompleks (Complex Numbers)\n",
    " \n",
    " Bilangan kompleks adalah jenis bilangan yang terdiri dari dua bagian, yaitu:\n",
    "\n",
    "- **Bagian real**, misalnya: $2$, $-3$, $\\sqrt{5}$, dll.\n",
    "- **Bagian imajiner**, yaitu kelipatan dari satuan imajiner $i$, dengan definisi:\n",
    "\n",
    "$$\n",
    "i = \\sqrt{-1} \\quad \\text{sehingga} \\quad i^2 = -1 \\tag{3.1}\n",
    "$$ \n",
    "\n",
    "## Bentuk Umum"
   ]
  },
  {
   "cell_type": "markdown",
   "id": "6ed17882",
   "metadata": {},
   "source": [
    "Bilangan kompleks ditulis sebagai:\n",
    "\n",
    "$$\n",
    "z = x + iy \\tag{3.2}\n",
    "$$\n",
    "\n",
    "dengan:\n",
    "- $x$ = bagian real  \n",
    "- $y$ = bagian imajiner  \n",
    "- $i$ = unit imajiner ($\\sqrt{-1}$)\n",
    "\n",
    "\n",
    "\n",
    "$$\n",
    "z₁ · z₂ = (x₁x₂ − y₁y₂) + i(x₁y₂ + x₂y₁) \\tag{3.3}\n",
    "$$\n",
    "\n",
    "### 3.1.1 Bilangan Imajiner (Imaginary Numbers)\n"
   ]
  },
  {
   "cell_type": "markdown",
   "id": "6455c49f",
   "metadata": {},
   "source": [
    "Bilangan imajiner adalah bilangan yang melibatkan satuan imajiner **i**, di mana:\n",
    "\n",
    "\n",
    "$$\n",
    "i = \\sqrt{-1} \\quad \\text{sehingga} \\quad i^2 = -1 \\tag{3.4}\n",
    "$$\n",
    "\n",
    "Bilangan kompleks dituliskan dalam bentuk kartesius sebagai:\n",
    "\n",
    "$$\n",
    "z = x + iy \\tag{3.5}\n",
    "$$\n",
    "\n",
    "\n",
    "di mana *x* adalah bagian real dan *y* bagian imajiner.\n",
    "\n",
    "#### Operasi Dasar\n",
    "\n",
    "- **Penjumlahan dan pengurangan** dilakukan dengan menjumlahkan atau mengurangkan bagian real dan imajiner.\n",
    "- **Perkalian:**\n",
    "\n",
    "$$\n",
    "z₁ = x₁ + iy₁, z₂ = x₂ + iy₂  \\tag{3.3}\n",
    "$$\n"
   ]
  },
  {
   "cell_type": "markdown",
   "id": "cd8c3670",
   "metadata": {},
   "source": [
    "$$\n",
    "z₁ · z₂ = (x₁x₂ − y₁y₂) + i(x₁y₂ + x₂y₁) \\tag{3.4}\n",
    "$$\n",
    "\n",
    "- **Pembagian:**\n",
    "$$\n",
    "z₁ / z₂ = [(x₁ + iy₁)(x₂ − iy₂)] / (x₂² + y₂²) \\tag{3.5}\n",
    "$$\n",
    "\n",
    "#### Modulus dan Konjugat\n",
    "\n",
    "- **Modulus**:\n",
    "\n",
    "$$ \n",
    "|z| = √(x² + y²) \\tag{3.6}\n",
    "$$\n",
    "- **Konjugat kompleks**:\n",
    "$$ \n",
    "z̄ = x − iy \\tag{3.7}\n",
    "$$"
   ]
  },
  {
   "cell_type": "markdown",
   "id": "e797662f",
   "metadata": {},
   "source": [
    "### 3.1.2 Bentuk Polar dan Eksponensial (Polar Form)\n",
    "\n",
    "Bilangan kompleks juga dapat ditulis dalam bentuk polar menggunakan panjang (modulus) dan sudut (argumen):\n",
    "\n",
    "$$\n",
    "z = r(cosθ + i sinθ) \\tag{3.8}\n",
    "$$\n",
    "dengan:\n",
    "\n",
    "$$\n",
    "r = |z| = √(x² + y²),   \\tag{3.9}\n",
    "$$\n",
    "\n",
    "$$\n",
    "θ = arg(z) = tan⁻¹(y/x) \\tag{3.10}\n",
    "$$\n"
   ]
  },
  {
   "cell_type": "markdown",
   "id": "da047612",
   "metadata": {},
   "source": [
    "Menggunakan **Rumus Euler**:\n",
    "\n",
    "$$ \n",
    "z = re(iθ) \\tag{3.11}\n",
    "$$\n",
    "#### Operasi dalam Bentuk Polar\n",
    "\n",
    "- **Perkalian**:\n",
    "\n",
    "$$\n",
    "z₁ · z₂ = r₁r₂ · e^(i(θ₁ + θ₂)) \\tag{3.12}\n",
    "$$\n",
    "\n",
    "- **Pembagian**:\n",
    "\n",
    "$$ \n",
    "z₁ / z₂ = (r₁ / r₂) · e^(i(θ₁ − θ₂)) \\tag{3.13}\n",
    "$$\n",
    "\n",
    "#### Pangkat dan Akar (Teorema De Moivre)\n",
    "\n",
    "- **Pangkat**:\n",
    "\n",
    "$$\n",
    "z^n = \\left(re^{i\\theta}\\right)^n = r^n \\cdot e^{in\\theta} \\tag{3.14}\n",
    "$$"
   ]
  },
  {
   "cell_type": "markdown",
   "id": "0f59d253",
   "metadata": {},
   "source": [
    "maka untuk pangkat bulat \\( n \\), berlaku:\n",
    "\n",
    "$$\n",
    "z^n = \\left(re^{i\\theta}\\right)^n = r^n e^{in\\theta}  \\tag{3.15}\n",
    "$$\n",
    "\n",
    "- **Akar-n dari z**:\n",
    "\n",
    "$$\n",
    "z^{1/n} = r^{1/n} \\cdot e^{i\\frac{\\theta + 2k\\pi}{n}}, \\quad \\text{untuk } k = 0, 1, \\dots, n-1 \\tag{3.16}\n",
    "$$\n",
    "\n",
    "## 3.2 Fungsi Hiperbolik (Hyperbolic Functions)\n",
    "\n",
    "![image.png](attachment:image.png)\n",
    "\n",
    "### 3.2.1 Sine dan Cosine Hiperbolik\n",
    "\n",
    "Fungsi hiperbolik adalah fungsi analog dari trigonometri, tetapi menggunakan eksponensial.\n",
    "\n",
    "- **sinh(x)**:\n",
    "\n",
    "$$\n",
    "sinh(x) = (e^x − e^(−x)) / 2 \\tag{3.17}\n",
    "$$\n",
    "- **cosh(x)**:\n"
   ]
  },
  {
   "cell_type": "markdown",
   "id": "9f579a55",
   "metadata": {},
   "source": [
    "$$  \n",
    "cosh(x) = (e^x + e^(−x)) / 2 \\tag{3.18}\n",
    "$$\n",
    "\n",
    "### 3.2.2 Identitas Hiperbolik\n",
    "\n",
    "![image-2.png](attachment:image-2.png)\n",
    "\n",
    "- **Identitas utama**:\n",
    "\n",
    "$$\n",
    "cosh²(x) − sinh²(x) = 1 \\tag{3.19}\n",
    "$$\n",
    "\n",
    "- **Turunan fungsi hiperbolik**:\n",
    "\n",
    "$$  \n",
    "d/dx sinh(x) = cosh(x) \\tag{3.20}\n",
    "$$\n",
    "\n",
    "$$ \n",
    "d/dx cosh(x) = sinh(x) \\tag{3.21}\n",
    "$$\n",
    "### 5.2.3 Fungsi Invers Hiperbolik"
   ]
  },
  {
   "cell_type": "markdown",
   "id": "5ce3ce8a",
   "metadata": {},
   "source": [
    "- **Inverse sinh**:\n",
    "\n",
    "$$\n",
    "sinh⁻¹(x) = ln(x + √(x² + 1)) \\tag{3.22}\n",
    "$$\n",
    "- **Inverse cosh**:\n",
    "$$ \n",
    "cosh⁻¹(x) = ln(x + √(x² − 1)) \\tag{3.23}\n",
    "$$\n",
    "\n",
    "## 3.3 Gelombang Air (Water Waves)\n",
    "\n",
    "Aplikasi bilangan kompleks dan sinus digunakan dalam model gelombang air, termasuk gelombang laut dan tsunami.\n",
    "\n",
    "- **Persamaan gelombang**:\n",
    "$$ \n",
    "ψ(x, t) = A sin(kx − ωt) \\tag{3.23}\n",
    "$$\n",
    "di mana:\n",
    "\n",
    "$$ A = amplitudo,$$\n",
    " $$ k = bilangan  gelombang,$$\n",
    " $$ ω = frekuensi  sudut$$\n",
    "\n",
    " - **Kecepatan fasa gelombang:**"
   ]
  },
  {
   "cell_type": "markdown",
   "id": "6e74c8a6",
   "metadata": {},
   "source": [
    "$$\n",
    "v = √(gλ / 2π) · tanh(2πh / λ) \\tag{3.24}\n",
    "$$\n",
    "Untuk **air dalam (deep water)** di mana *h >> λ*:\n",
    "\n",
    "$$ \n",
    "v ≈ √(gλ / 2π) \\tag{3.25}\n",
    "$$"
   ]
  },
  {
   "cell_type": "markdown",
   "id": "c59a1f54",
   "metadata": {},
   "source": [
    "# Contoh soal "
   ]
  },
  {
   "cell_type": "markdown",
   "id": "1334ffac",
   "metadata": {},
   "source": [
    "###  1. $ x + 25 =0 $"
   ]
  },
  {
   "cell_type": "code",
   "execution_count": 7,
   "id": "2ddb89d9",
   "metadata": {},
   "outputs": [
    {
     "name": "stdout",
     "output_type": "stream",
     "text": [
      "Hasil dari kuadrat akar adalah [-5*I, 5*I]\n"
     ]
    }
   ],
   "source": [
    "import sympy\n",
    "from sympy import symbols, solve, I\n",
    "\n",
    "x = symbols('x')\n",
    "\n",
    "fungsi = x**2 + 25\n",
    "\n",
    "hasil = solve(fungsi)\n",
    "\n",
    "print('Hasil dari kuadrat akar adalah',(hasil))"
   ]
  },
  {
   "cell_type": "markdown",
   "id": "11ca653c",
   "metadata": {},
   "source": [
    "### 2. Evaluate $j^8$"
   ]
  },
  {
   "cell_type": "code",
   "execution_count": 6,
   "id": "daceeccd",
   "metadata": {},
   "outputs": [
    {
     "name": "stdout",
     "output_type": "stream",
     "text": [
      "nilai dari j**8 adalah 1\n"
     ]
    }
   ],
   "source": [
    "import sympy\n",
    "from sympy import symbols, I\n",
    "\n",
    "j = I\n",
    "\n",
    "hasil = j**8\n",
    "print('nilai dari j**8 adalah', (hasil))"
   ]
  },
  {
   "cell_type": "markdown",
   "id": "a4c6a529",
   "metadata": {},
   "source": [
    "# DIFFERENTIATION"
   ]
  },
  {
   "cell_type": "code",
   "execution_count": null,
   "id": "135f2db9",
   "metadata": {},
   "outputs": [],
   "source": []
  },
  {
   "cell_type": "markdown",
   "id": "fc8118eb",
   "metadata": {},
   "source": [
    "Dari proses diferensiasi menggunakan prinsip pertama (definisi limit) pada berbagai contoh seperti y = axn , ditemukan pola umum yang dikenal sebagai aturan pangkat (power rule). Aturan ini menyatakan bahwa jika y=axn, di mana a dan n adalah konstanta, maka turunan fungsi tersebut terhadap x adalah "
   ]
  },
  {
   "cell_type": "markdown",
   "id": "340662f0",
   "metadata": {},
   "source": [
    " $$\\frac {dy}{dx} = anx^{n-1} \\tag {4.1}$$"
   ]
  },
  {
   "cell_type": "markdown",
   "id": "0d2e6308",
   "metadata": {},
   "source": [
    "Jika y = u(x)v(x), dimana u dan v adalah fungsi yang bergantung pada x, maka turunan y terhadap x adalah \n",
    "\n",
    "$$ \\frac{dy}{dx} = u\\frac{dv}{dx} + v\\frac{du}{dx} \\tag{4.2} $$"
   ]
  },
  {
   "cell_type": "markdown",
   "id": "0cb3962f",
   "metadata": {},
   "source": [
    "## Diferensiasi Parsial"
   ]
  },
  {
   "cell_type": "markdown",
   "id": "ded2d966",
   "metadata": {},
   "source": [
    "Ketika mendiferensiasikan suatu fungsi yang memiliki dua variabel, salah satu variabel dipertahankan konstan, dan koefisien diferensial dari variabel lainnya dicari terhadap variabel tersebut. Koefisien diferensial yang diperoleh disebut sebagai turunan parsial dari fungsi tersebut."
   ]
  },
  {
   "cell_type": "markdown",
   "id": "13a01119",
   "metadata": {},
   "source": [
    "Turunan parsial terhadap x :\n",
    "$$ \\frac{\\partial f}{\\partial x} = \\lim{h \\to 0} \\frac{f(x + h,y) - f(x,y)}{h} \\tag {4.3}$$"
   ]
  },
  {
   "cell_type": "markdown",
   "id": "29b1f531",
   "metadata": {},
   "source": [
    "Oleh karena itu, jika $V = \\pi r^2h, maka \\frac{\\partial V}{\\partial r}$ dengan h tetap konstan "
   ]
  },
  {
   "cell_type": "markdown",
   "id": "50bb26ef",
   "metadata": {},
   "source": [
    "$$\\frac{\\partial V}{\\partial h} = (\\pi r^2)\\frac{d}{dh}(h)= (\\pi h)(2r) = (2\\pi hr)$$"
   ]
  },
  {
   "cell_type": "markdown",
   "id": "c00a0349",
   "metadata": {},
   "source": [
    "# Contoh soal"
   ]
  },
  {
   "cell_type": "markdown",
   "id": "bf86bcc4",
   "metadata": {},
   "source": [
    "### 1. $  3 \\sqrt[3]{x^5} $"
   ]
  },
  {
   "cell_type": "code",
   "execution_count": 9,
   "id": "18107447",
   "metadata": {},
   "outputs": [
    {
     "data": {
      "text/latex": [
       "$\\displaystyle 5 x^{\\frac{2}{3}}$"
      ],
      "text/plain": [
       "5*x**(2/3)"
      ]
     },
     "execution_count": 9,
     "metadata": {},
     "output_type": "execute_result"
    }
   ],
   "source": [
    "import sympy\n",
    "from sympy import diff, symbols, Rational\n",
    "\n",
    "x = symbols('x', Real = True, Positive = True )\n",
    "fungsi = 3 * x ** Rational(5,3)\n",
    "\n",
    "turunan = diff(fungsi, x)\n",
    "turunan "
   ]
  },
  {
   "cell_type": "markdown",
   "id": "e297b131",
   "metadata": {},
   "source": [
    "### 2. $ e^{3t} sin 4t $"
   ]
  },
  {
   "cell_type": "code",
   "execution_count": 10,
   "id": "5ef3d210",
   "metadata": {},
   "outputs": [
    {
     "data": {
      "text/latex": [
       "$\\displaystyle 3 e^{3 t} \\sin{\\left(4 t \\right)} + 4 e^{3 t} \\cos{\\left(4 t \\right)}$"
      ],
      "text/plain": [
       "3*exp(3*t)*sin(4*t) + 4*exp(3*t)*cos(4*t)"
      ]
     },
     "execution_count": 10,
     "metadata": {},
     "output_type": "execute_result"
    }
   ],
   "source": [
    "import sympy\n",
    "from sympy import diff, sin, symbols, exp\n",
    "\n",
    "t = symbols('t')\n",
    "fungsi = exp(3*t) *sin(4*t)\n",
    "\n",
    "turunan = diff(fungsi, t)\n",
    "turunan"
   ]
  },
  {
   "cell_type": "markdown",
   "id": "31c5ac93",
   "metadata": {},
   "source": [
    "# INTEGRATION\n"
   ]
  },
  {
   "cell_type": "markdown",
   "id": "9a7a8761",
   "metadata": {},
   "source": [
    "## Konsep Integral "
   ]
  },
  {
   "cell_type": "markdown",
   "id": "0a970952",
   "metadata": {},
   "source": [
    "Diferensiasi digunakan untuk menemukan turunan suatu fungsi, sementara integrasi merupakan proses kebalikannya yang bertujuan mencari fungsi asal dari turunan yang diberikan, sehingga integrasi dapat dipandang sebagai \"anti-diferensiasi\" yang memungkinkan kita menemukan fungsi asal dengan menambahkan konstanta integrasi untuk mewakili semua kemungkinan fungsi asal yang memiliki turunan yang sama."
   ]
  },
  {
   "cell_type": "markdown",
   "id": "d02f7c85",
   "metadata": {},
   "source": [
    "Solusi umum dari integral dalam bentuk $\\int ax^n dx$ di mana a dan n adalah konstanta, diberikan oleh"
   ]
  },
  {
   "cell_type": "markdown",
   "id": "b71fe828",
   "metadata": {},
   "source": [
    "$$\\int ax^n dx = \\frac {ax^{n+1}}{n+1} + c  \\tag {5.1} $$"
   ]
  },
  {
   "cell_type": "markdown",
   "id": "e4c57c15",
   "metadata": {},
   "source": [
    "## Integral By  Parts "
   ]
  },
  {
   "cell_type": "markdown",
   "id": "4451883a",
   "metadata": {},
   "source": [
    "Integral by parts adalah suatu metode dalam kalkulus integral yang digunakan untuk menyelesaikan integral dari hasil kali dua fungsi. Metode ini merupakan kebalikan dari aturan perkalian (product rule) yang digunakan dalam diferensiasi."
   ]
  },
  {
   "cell_type": "markdown",
   "id": "9385542f",
   "metadata": {},
   "source": [
    "Rumus integral by parts dapat dinyatakan sebagai :"
   ]
  },
  {
   "cell_type": "markdown",
   "id": "6783db0e",
   "metadata": {},
   "source": [
    " $$\\int u dv = uv - \\int v du  \\tag{5.2}$$"
   ]
  },
  {
   "cell_type": "markdown",
   "id": "14a932d5",
   "metadata": {},
   "source": [
    "### 1. $\\int \\frac{3}{4x^4} dx$"
   ]
  },
  {
   "cell_type": "code",
   "execution_count": 2,
   "id": "13bc6073",
   "metadata": {},
   "outputs": [
    {
     "data": {
      "text/latex": [
       "$\\displaystyle - \\frac{1}{4 x^{3}}$"
      ],
      "text/plain": [
       "-1/(4*x**3)"
      ]
     },
     "execution_count": 2,
     "metadata": {},
     "output_type": "execute_result"
    }
   ],
   "source": [
    "import sympy\n",
    "from sympy import integrate, symbols\n",
    "\n",
    "x = symbols('x')\n",
    "fungsi = 3/(4*x**4)\n",
    "integral = integrate(fungsi, x)\n",
    "integral"
   ]
  },
  {
   "cell_type": "markdown",
   "id": "d953f5eb",
   "metadata": {},
   "source": [
    "### 2. $\\int_{0}^{2} 3 sin t dt $"
   ]
  },
  {
   "cell_type": "code",
   "execution_count": 3,
   "id": "35d84238",
   "metadata": {},
   "outputs": [
    {
     "data": {
      "text/latex": [
       "$\\displaystyle 3 - 3 \\cos{\\left(2 \\right)}$"
      ],
      "text/plain": [
       "3 - 3*cos(2)"
      ]
     },
     "execution_count": 3,
     "metadata": {},
     "output_type": "execute_result"
    }
   ],
   "source": [
    "import sympy\n",
    "from sympy import integrate, symbols, sqrt, sin\n",
    "t = symbols ('t', positive = True, Real = True)\n",
    "fungsi = 3 * sin (t) \n",
    "integral = integrate(fungsi, (t,0,2))\n",
    "integral"
   ]
  },
  {
   "cell_type": "markdown",
   "id": "96b1023f",
   "metadata": {},
   "source": [
    "## 3. $ \\int 2e^{5x} cos 2x dx$  "
   ]
  },
  {
   "cell_type": "code",
   "execution_count": 4,
   "id": "aea0e40b",
   "metadata": {},
   "outputs": [
    {
     "data": {
      "text/latex": [
       "$\\displaystyle \\frac{4 e^{5 x} \\sin{\\left(2 x \\right)}}{29} + \\frac{10 e^{5 x} \\cos{\\left(2 x \\right)}}{29}$"
      ],
      "text/plain": [
       "4*exp(5*x)*sin(2*x)/29 + 10*exp(5*x)*cos(2*x)/29"
      ]
     },
     "execution_count": 4,
     "metadata": {},
     "output_type": "execute_result"
    }
   ],
   "source": [
    "import sympy\n",
    "from sympy import integrate, exp, cos\n",
    "\n",
    "x = symbols('x')\n",
    "fungsi = 2*exp(5*x) * cos(2*x)\n",
    "\n",
    "integral = integrate(fungsi,x )\n",
    "integral"
   ]
  }
 ],
 "metadata": {
  "kernelspec": {
   "display_name": "Python 3",
   "language": "python",
   "name": "python3"
  },
  "language_info": {
   "codemirror_mode": {
    "name": "ipython",
    "version": 3
   },
   "file_extension": ".py",
   "mimetype": "text/x-python",
   "name": "python",
   "nbconvert_exporter": "python",
   "pygments_lexer": "ipython3",
   "version": "3.13.2"
  }
 },
 "nbformat": 4,
 "nbformat_minor": 5
}
